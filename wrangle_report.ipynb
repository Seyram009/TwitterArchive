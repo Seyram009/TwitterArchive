{
 "cells": [
  {
   "cell_type": "markdown",
   "metadata": {},
   "source": [
    "## Reporting: wragle_report"
   ]
  },
  {
   "cell_type": "markdown",
   "metadata": {},
   "source": [
    "The wrangling process involved three setps. The first being gathering three datasets, assessing them and then finally, the cleaning step.\n"
   ]
  },
  {
   "cell_type": "markdown",
   "metadata": {},
   "source": [
    "## GATHERING "
   ]
  },
  {
   "cell_type": "markdown",
   "metadata": {},
   "source": [
    "Three datasets were gathered in this step; Twitter Archive, Images and Additional Data Datasets. The Twitter Archive dataset was gathered using pandas read_csv function on a .csv file. The second dataset(images) was gathered programatically using the requests library and the third dataset was gathered from twitter's API using the tweepy library."
   ]
  },
  {
   "cell_type": "markdown",
   "metadata": {},
   "source": [
    "## ASSESSING"
   ]
  },
  {
   "cell_type": "markdown",
   "metadata": {},
   "source": [
    "Assessment was done by two ways; programatically and visually. The following quality and tidiess issues were some of the issues detected.\n"
   ]
  },
  {
   "cell_type": "markdown",
   "metadata": {},
   "source": [
    "#### Quality Issues\n",
    "\n",
    "1. Chaning all 'None' values to 'NaN'\n",
    "(Twitter Archive Dataset)\n",
    "\n",
    "2. Timestamp has a data type object instead of a datetime format\n",
    "(Twitter Archive Dataset)\n",
    "\n",
    "3. Dropping columns with a lot of null values; retweeted_status_id, retweeted_status-user-id, retweeted_status_timestamp, in_reply_to_status_id, in_reply_to_user_id\n",
    "(Twitter Archive Dataset)\n",
    "\n",
    "4. Removing ratings that are not for dogs; ratings, text \n",
    "(Twitter Archive Dataset)\n",
    "\n",
    "5. Removing ratings with huge numerators and denominators \n",
    "(Twitter Archive Dataset)\n",
    "\n",
    "6. Deleting anchor tags and extracting the source  \n",
    "(Twitter Archive Dataset)\n",
    "\n",
    "7. Dropping columns that are not important \n",
    "(Twitter Archive Dataset)\n",
    "\n",
    "8. Most of the animals with 'false' in the p2_dog column were not dogs \n",
    "(Images Dataset)"
   ]
  },
  {
   "cell_type": "markdown",
   "metadata": {},
   "source": [
    "#### Tidiness Issues\n",
    "1. Three datasets are a lot, they need to be merged (Twitter Archive, Images and Additional Data Datasets)\n",
    "\n",
    "2. Same variable in four columns (Twitter Archive Dataset; doggo, puppo, pupper and floofer columns)"
   ]
  },
  {
   "cell_type": "markdown",
   "metadata": {},
   "source": [
    "## CLEANING\n",
    "\n",
    "For the cleaning process, quality issues were addressed first and tidiness issues were addressed after. For the data quality issues, None values were changed to NaN for easy understanding. Datatype for timestamp was changed from object to date time, rows that did not relate to dogs were dropped and those with null values were dropped too. Ratings with huge numerators and denominators were deleted; specifically numerators with figures higher than 50 and denominators that were other figures aside 10. Anchor tags were deleted in order to extract the source of the ratings. For the tidiness issues, the four dog columns(doggo, pupper, puppo and floofer) were merged into one column which was assisgned the name 'four_columns'. Lastly, all the three datasets (Twitter Archive Clean, Images Clean and Additional Data Clean) were combined using the merge function.It was then saved under the name 'Twitter_Archive_Master'"
   ]
  },
  {
   "cell_type": "code",
   "execution_count": null,
   "metadata": {},
   "outputs": [],
   "source": []
  }
 ],
 "metadata": {
  "kernelspec": {
   "display_name": "Python 3",
   "language": "python",
   "name": "python3"
  },
  "language_info": {
   "codemirror_mode": {
    "name": "ipython",
    "version": 3
   },
   "file_extension": ".py",
   "mimetype": "text/x-python",
   "name": "python",
   "nbconvert_exporter": "python",
   "pygments_lexer": "ipython3",
   "version": "3.6.3"
  }
 },
 "nbformat": 4,
 "nbformat_minor": 2
}
